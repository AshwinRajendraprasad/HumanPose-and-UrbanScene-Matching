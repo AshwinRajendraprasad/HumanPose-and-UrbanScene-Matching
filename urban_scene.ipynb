{
 "cells": [
  {
   "cell_type": "code",
   "execution_count": null,
   "metadata": {
    "collapsed": true
   },
   "outputs": [],
   "source": [
    "import sys\n",
    "import cv2\n",
    "import common\n",
    "from urbanscene import features\n",
    "import logging\n",
    "import matching\n",
    "from matplotlib import pyplot as plt\n",
    "import timer\n",
    "logging.basicConfig(level=logging.DEBUG)\n",
    "logger = logging.getLogger(\"main\")\n",
    "\n",
    "feature_name = 'orb-flann'\n",
    "path_img = '../img/' \n",
    "path_json = '../json_data/'  \n",
    "model_name = 'duo30.jpg'\n",
    "input_name = 'duo31.jpg' \n",
    "model_image = cv2.imread(path_img + model_name, cv2.IMREAD_GRAYSCALE)\n",
    "input_image = cv2.imread(path_img + input_name, cv2.IMREAD_GRAYSCALE)"
   ]
  }
 ],
 "metadata": {
  "kernelspec": {
   "display_name": "Python 2",
   "language": "python",
   "name": "python2"
  },
  "language_info": {
   "codemirror_mode": {
    "name": "ipython",
    "version": 2
   },
   "file_extension": ".py",
   "mimetype": "text/x-python",
   "name": "python",
   "nbconvert_exporter": "python",
   "pygments_lexer": "ipython2",
   "version": "2.7.6"
  }
 },
 "nbformat": 4,
 "nbformat_minor": 0
}
